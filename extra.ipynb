{
 "cells": [
  {
   "cell_type": "code",
   "execution_count": 1,
   "metadata": {},
   "outputs": [],
   "source": [
    "import cv2\n",
    "import numpy as np"
   ]
  },
  {
   "cell_type": "code",
   "execution_count": null,
   "metadata": {},
   "outputs": [],
   "source": [
    "def resize(image, width=None, height=None, show=False):\n",
    "    if width is None and height is None:\n",
    "        return image\n",
    "\n",
    "    if width is None:\n",
    "        r = height / image.shape[0]\n",
    "        width = int(r * image.shape[1])\n",
    "    elif height is None:\n",
    "        r = width / image.shape[1]\n",
    "        height = int(r * image.shape[0])\n",
    "\n",
    "    resized = cv2.resize(image, (width, height), interpolation=cv2.INTER_AREA)\n",
    "\n",
    "    if show:\n",
    "        cv2.imshow('Image Resized By {0:.2f}'.format(r), resized)\n",
    "        cv2.waitKey(0)\n",
    "\n",
    "    return resized"
   ]
  },
  {
   "cell_type": "code",
   "execution_count": 11,
   "metadata": {},
   "outputs": [],
   "source": [
    "def draw_corners(img, points):\n",
    "    \n",
    "    if len(points) == 4:\n",
    "        p1= points[0]\n",
    "        p2= points[1]\n",
    "        p3= points[2]\n",
    "        p4 = points[3]\n",
    "        cv2.circle(img, tuple(p1), 6, (0, 0, 255), -1)\n",
    "        cv2.circle(img, tuple(p2), 6, (0, 255, 0), -1)\n",
    "        cv2.circle(img, tuple(p3), 6, (255, 0, 0), -1)\n",
    "        cv2.circle(img, tuple(p4), 6, (0, 255, 255), -1)\n",
    "\n",
    "    else:\n",
    "        from random import sample\n",
    "        for p in points:\n",
    "            random_color = tuple(sample(range(0, 255), 3))\n",
    "            cv2.circle(img, tuple(p), 6, random_color, -1)\n",
    "\n",
    "    cv2.imshow(\"image\", img)\n",
    "    cv2.waitKey(0)"
   ]
  },
  {
   "cell_type": "code",
   "execution_count": 12,
   "metadata": {},
   "outputs": [],
   "source": [
    "def get_corner_points(contour):\n",
    "    \n",
    "    peri = cv2.arcLength(contour, True)\n",
    "    corners = cv2.approxPolyDP(contour, 0.02 * peri, True)\n",
    "\n",
    "\n",
    "    return np.squeeze(corners)"
   ]
  },
  {
   "cell_type": "code",
   "execution_count": 13,
   "metadata": {},
   "outputs": [],
   "source": [
    "def order_corner_points_clockwise(points):\n",
    "   \n",
    "    rect = np.zeros((4, 2), dtype=\"float32\")\n",
    "\n",
    "    axis_sum = np.sum(points, axis=1)\n",
    "    rect[0] = points[np.argmin(axis_sum)]\n",
    "    rect[2] = points[np.argmax(axis_sum)]\n",
    "\n",
    "   \n",
    "    axis_diff = np.diff(points, axis=1)\n",
    "    rect[1] = points[np.argmin(axis_diff)]\n",
    "    rect[3] = points[np.argmax(axis_diff)]\n",
    "\n",
    "   \n",
    "    return rect"
   ]
  },
  {
   "cell_type": "code",
   "execution_count": 14,
   "metadata": {},
   "outputs": [],
   "source": [
    "def apply_top_view(image, pts):\n",
    "    (tl, tr, br, bl) = pts\n",
    "\n",
    "   \n",
    "    widthA = np.sqrt(((br[0] - bl[0]) ** 2) + ((br[1] - bl[1]) ** 2))\n",
    "    widthB = np.sqrt(((tr[0] - tl[0]) ** 2) + ((tr[1] - tl[1]) ** 2))\n",
    "    maxWidth = max(int(widthA), int(widthB))\n",
    "\n",
    "    \n",
    "    heightA = np.sqrt(((tr[0] - br[0]) ** 2) + ((tr[1] - br[1]) ** 2))\n",
    "    heightB = np.sqrt(((tl[0] - bl[0]) ** 2) + ((tl[1] - bl[1]) ** 2))\n",
    "    maxHeight = max(int(heightA), int(heightB))\n",
    "\n",
    "    \n",
    "    dst = np.array([\n",
    "        [0, 0],\n",
    "        [maxWidth - 1, 0],\n",
    "        [maxWidth - 1, maxHeight - 1],\n",
    "        [0, maxHeight - 1]], dtype=\"float32\")\n",
    "\n",
    "    \n",
    "    M = cv2.getPerspectiveTransform(pts, dst)\n",
    "    warped = cv2.warpPerspective(image, M, (maxWidth, maxHeight))\n",
    "\n",
    "    \n",
    "    return warped"
   ]
  },
  {
   "cell_type": "code",
   "execution_count": 15,
   "metadata": {},
   "outputs": [],
   "source": [
    "def make_page_upright(src):\n",
    "\n",
    "    image = None\n",
    "    if isinstance(src, str):  \n",
    "        image = cv2.imread(src)\n",
    "    else:  \n",
    "        image = src\n",
    "\n",
    "    original_height, original_width = image.shape[:2]\n",
    "    new_height = 400\n",
    "\n",
    "    \n",
    "    h_ratio = original_height / new_height\n",
    "\n",
    "    \n",
    "    small_image = resize(image, height=new_height)\n",
    "\n",
    "   \n",
    "    w_ratio = original_width / small_image.shape[1]\n",
    "\n",
    "    gray_small_image = cv2.cvtColor(small_image, cv2.COLOR_BGR2GRAY)\n",
    "    blurred_gray_small_image = cv2.GaussianBlur(gray_small_image, (9, 9), 0)\n",
    "    canny_blurred_gray_small_image = cv2.Canny(\n",
    "        blurred_gray_small_image, 120, 240)\n",
    "\n",
    "   \n",
    "    copy = small_image.copy()\n",
    "    cnts = cv2.findContours(canny_blurred_gray_small_image,\n",
    "                            cv2.RETR_EXTERNAL, cv2.CHAIN_APPROX_SIMPLE)[-2]\n",
    "\n",
    "    biggest_contour = sorted(cnts, key=cv2.contourArea, reverse=True)[0]\n",
    "\n",
    "    \n",
    "    unordered_corners = get_corner_points(biggest_contour)\n",
    "   \n",
    "    corners = order_corner_points_clockwise(unordered_corners)\n",
    "    \n",
    "    new_corners = np.zeros((4, 2), dtype=\"float32\")\n",
    "    for i in range(len(corners)):\n",
    "        new_corners[i] = [corners[i][0] * w_ratio, corners[i][1] * h_ratio]\n",
    "\n",
    "    return apply_top_view(image, new_corners)"
   ]
  },
  {
   "cell_type": "code",
   "execution_count": 2,
   "metadata": {},
   "outputs": [
    {
     "data": {
      "text/plain": [
       "-1"
      ]
     },
     "execution_count": 2,
     "metadata": {},
     "output_type": "execute_result"
    }
   ],
   "source": [
    "\n",
    "image = cv2.imread(\"3.jpeg\")\n",
    "\n",
    "original_height, original_width = image.shape[:2]\n",
    "new_height = 400\n",
    "cv2.imshow(\"image\", image)\n",
    "cv2.waitKey(0)"
   ]
  },
  {
   "cell_type": "code",
   "execution_count": 5,
   "metadata": {},
   "outputs": [
    {
     "data": {
      "text/plain": [
       "-1"
      ]
     },
     "execution_count": 5,
     "metadata": {},
     "output_type": "execute_result"
    }
   ],
   "source": [
    "ratio = original_height / new_height\n",
    "\n",
    "\n",
    "small_image = resize(image, height=new_height)\n",
    "cv2.imshow(\"image\", small_image)\n",
    "cv2.waitKey(0)"
   ]
  },
  {
   "cell_type": "code",
   "execution_count": 6,
   "metadata": {},
   "outputs": [
    {
     "data": {
      "text/plain": [
       "-1"
      ]
     },
     "execution_count": 6,
     "metadata": {},
     "output_type": "execute_result"
    }
   ],
   "source": [
    "gray_small_image = cv2.cvtColor(small_image, cv2.COLOR_BGR2GRAY)\n",
    "cv2.imshow(\"image\", gray_small_image)\n",
    "cv2.waitKey(0)"
   ]
  },
  {
   "cell_type": "code",
   "execution_count": 7,
   "metadata": {},
   "outputs": [
    {
     "data": {
      "text/plain": [
       "-1"
      ]
     },
     "execution_count": 7,
     "metadata": {},
     "output_type": "execute_result"
    }
   ],
   "source": [
    "blurred_gray_small_image = cv2.GaussianBlur(gray_small_image, (9, 9), 0)\n",
    "cv2.imshow(\"image\", blurred_gray_small_image)\n",
    "cv2.waitKey(0)"
   ]
  },
  {
   "cell_type": "code",
   "execution_count": 8,
   "metadata": {},
   "outputs": [
    {
     "data": {
      "text/plain": [
       "-1"
      ]
     },
     "execution_count": 8,
     "metadata": {},
     "output_type": "execute_result"
    }
   ],
   "source": [
    "canny_blurred_gray_small_image = cv2.Canny(blurred_gray_small_image, 120, 240)\n",
    "cv2.imshow(\"image\", canny_blurred_gray_small_image)\n",
    "cv2.waitKey(0)"
   ]
  },
  {
   "cell_type": "code",
   "execution_count": 9,
   "metadata": {},
   "outputs": [
    {
     "data": {
      "text/plain": [
       "-1"
      ]
     },
     "execution_count": 9,
     "metadata": {},
     "output_type": "execute_result"
    }
   ],
   "source": [
    "copy = small_image.copy()\n",
    "cnts = cv2.findContours(canny_blurred_gray_small_image,cv2.RETR_EXTERNAL, cv2.CHAIN_APPROX_SIMPLE)[-2]\n",
    "\n",
    "biggest_contour = sorted(cnts, key=cv2.contourArea, reverse=True)[0]\n",
    "cv2.drawContours(copy, [biggest_contour], -1, (0, 255, 0), 2)\n",
    "cv2.imshow(\"image\", copy)\n",
    "cv2.waitKey(0)"
   ]
  },
  {
   "cell_type": "code",
   "execution_count": 16,
   "metadata": {},
   "outputs": [
    {
     "name": "stdout",
     "output_type": "stream",
     "text": [
      "4\n"
     ]
    }
   ],
   "source": [
    "unordered_corners = get_corner_points(biggest_contour)\n",
    "print(len(unordered_corners))\n",
    "draw_corners(copy.copy(), unordered_corners)\n",
    "\n",
    "\n",
    "corners = order_corner_points_clockwise(unordered_corners)\n",
    "draw_corners(copy, np.int_(corners))"
   ]
  },
  {
   "cell_type": "code",
   "execution_count": 17,
   "metadata": {},
   "outputs": [
    {
     "data": {
      "text/plain": [
       "-1"
      ]
     },
     "execution_count": 17,
     "metadata": {},
     "output_type": "execute_result"
    }
   ],
   "source": [
    "new_image = apply_top_view(image, np.float32(corners)*ratio)\n",
    "new_image=cv2.rotate(new_image, cv2.ROTATE_180)\n",
    "cv2.imshow(\"image\", resize(new_image, height=400))\n",
    "cv2.waitKey(0)"
   ]
  },
  {
   "cell_type": "code",
   "execution_count": null,
   "metadata": {},
   "outputs": [],
   "source": []
  }
 ],
 "metadata": {
  "kernelspec": {
   "display_name": "env",
   "language": "python",
   "name": "python3"
  },
  "language_info": {
   "codemirror_mode": {
    "name": "ipython",
    "version": 3
   },
   "file_extension": ".py",
   "mimetype": "text/x-python",
   "name": "python",
   "nbconvert_exporter": "python",
   "pygments_lexer": "ipython3",
   "version": "3.11.3"
  }
 },
 "nbformat": 4,
 "nbformat_minor": 2
}
